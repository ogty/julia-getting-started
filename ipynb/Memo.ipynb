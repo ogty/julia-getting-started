{
 "cells": [
  {
   "cell_type": "markdown",
   "id": "ddde055a",
   "metadata": {},
   "source": [
    "# Dispatch"
   ]
  },
  {
   "cell_type": "code",
   "execution_count": 5,
   "id": "3fce9d37",
   "metadata": {},
   "outputs": [
    {
     "name": "stdout",
     "output_type": "stream",
     "text": [
      "11\n",
      "Aug\n"
     ]
    }
   ],
   "source": [
    "function sconvabb(data)::Int64\n",
    "    months = Dict{String, Int64}(\n",
    "    \"Jan\" => 1,  \"Feb\" => 2,  \"Mar\" => 3,\n",
    "    \"Apr\" => 4,  \"May\" => 5,  \"Jun\" => 6,\n",
    "    \"Jul\" => 7,  \"Aug\" => 8,  \"Sep\" => 9,\n",
    "    \"Oct\" => 10, \"Nov\" => 11, \"Dec\" => 12\n",
    "    )\n",
    "    return months[data]\n",
    "end\n",
    "function iconvabb(data)::String\n",
    "    months = Dict{Int64, String}(\n",
    "        1  => \"Jan\", 2  => \"Feb\", 3  => \"Mar\",\n",
    "        4  => \"Apr\", 5  => \"May\", 6  => \"Jun\",\n",
    "        7  => \"Jul\", 8  => \"Aug\", 9  => \"Sep\",\n",
    "        10 => \"Oct\", 11 => \"Nov\", 12 => \"Dec\"\n",
    "    )\n",
    "    return months[data]\n",
    "end\n",
    "\n",
    "convabb(data::String) = sconvabb(data)\n",
    "convabb(data::Int64) = iconvabb(data)\n",
    "\n",
    "println(convabb(\"Nov\"))\n",
    "println(convabb(8))"
   ]
  },
  {
   "cell_type": "code",
   "execution_count": 7,
   "id": "e05a3f04",
   "metadata": {},
   "outputs": [
    {
     "data": {
      "text/plain": [
       "4-element Vector{Int64}:\n",
       " 2\n",
       " 4\n",
       " 6\n",
       " 8"
      ]
     },
     "execution_count": 7,
     "metadata": {},
     "output_type": "execute_result"
    }
   ],
   "source": [
    "# Python: double = lambda x: [i * 2 for i in x]\n",
    "double(x) = [i * 2 for i in x]\n",
    "double([1, 2, 3, 4])"
   ]
  },
  {
   "cell_type": "markdown",
   "id": "014cccac",
   "metadata": {},
   "source": [
    "# Metaprogramming"
   ]
  },
  {
   "cell_type": "code",
   "execution_count": 17,
   "id": "e52c1280",
   "metadata": {},
   "outputs": [
    {
     "name": "stdout",
     "output_type": "stream",
     "text": [
      "Hi\n"
     ]
    }
   ],
   "source": [
    "using Base.Meta\n",
    "\n",
    "\n",
    "function greet()\n",
    "    return \"Hi\"\n",
    "end\n",
    "\n",
    "func_name = \"greet\"\n",
    "caller = \"$(func_name)()\"\n",
    "caller = Meta.parse(caller)\n",
    "call = eval(caller)\n",
    "println(call)"
   ]
  },
  {
   "cell_type": "code",
   "execution_count": 18,
   "id": "bcfb6249",
   "metadata": {},
   "outputs": [
    {
     "ename": "LoadError",
     "evalue": "invalid using path: \"prompt\" does not name a module",
     "output_type": "error",
     "traceback": [
      "invalid using path: \"prompt\" does not name a module",
      "",
      "Stacktrace:",
      " [1] top-level scope",
      "   @ In[18]:1",
      " [2] eval",
      "   @ .\\boot.jl:360 [inlined]",
      " [3] include_string(mapexpr::typeof(REPL.softscope), mod::Module, code::String, filename::String)",
      "   @ Base .\\loading.jl:1116"
     ]
    }
   ],
   "source": [
    "using Base.prompt\n",
    "\n",
    "\n",
    "name = Base.prompt(\"What's your name?\")\n",
    "println(\"Hello, $(name)!\")"
   ]
  },
  {
   "cell_type": "code",
   "execution_count": null,
   "id": "8ea747d9",
   "metadata": {},
   "outputs": [],
   "source": []
  }
 ],
 "metadata": {
  "kernelspec": {
   "display_name": "Julia 1.6.3",
   "language": "julia",
   "name": "julia-1.6"
  },
  "language_info": {
   "file_extension": ".jl",
   "mimetype": "application/julia",
   "name": "julia",
   "version": "1.6.3"
  }
 },
 "nbformat": 4,
 "nbformat_minor": 5
}
