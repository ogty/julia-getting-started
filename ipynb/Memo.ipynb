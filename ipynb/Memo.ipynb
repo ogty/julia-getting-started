{
 "cells": [
  {
   "cell_type": "markdown",
   "id": "596e6583",
   "metadata": {},
   "source": [
    "# Dispatch"
   ]
  },
  {
   "cell_type": "code",
   "execution_count": 1,
   "id": "8d9de6dc",
   "metadata": {},
   "outputs": [
    {
     "name": "stdout",
     "output_type": "stream",
     "text": [
      "11\n",
      "Aug\n"
     ]
    }
   ],
   "source": [
    "function sconvabb(data)::Int64\n",
    "    months = Dict{String, Int64}(\n",
    "    \"Jan\" => 1,  \"Feb\" => 2,  \"Mar\" => 3,\n",
    "    \"Apr\" => 4,  \"May\" => 5,  \"Jun\" => 6,\n",
    "    \"Jul\" => 7,  \"Aug\" => 8,  \"Sep\" => 9,\n",
    "    \"Oct\" => 10, \"Nov\" => 11, \"Dec\" => 12\n",
    "    )\n",
    "    return months[data]\n",
    "end\n",
    "function iconvabb(data)::String\n",
    "    months = Dict{Int64, String}(\n",
    "        1  => \"Jan\", 2  => \"Feb\", 3  => \"Mar\",\n",
    "        4  => \"Apr\", 5  => \"May\", 6  => \"Jun\",\n",
    "        7  => \"Jul\", 8  => \"Aug\", 9  => \"Sep\",\n",
    "        10 => \"Oct\", 11 => \"Nov\", 12 => \"Dec\"\n",
    "    )\n",
    "    return months[data]\n",
    "end\n",
    "\n",
    "convabb(data::String) = sconvabb(data)\n",
    "convabb(data::Int64) = iconvabb(data)\n",
    "\n",
    "println(convabb(\"Nov\"))\n",
    "println(convabb(8))"
   ]
  },
  {
   "cell_type": "code",
   "execution_count": 2,
   "id": "c9e8f37f",
   "metadata": {},
   "outputs": [
    {
     "data": {
      "text/plain": [
       "4-element Vector{Int64}:\n",
       " 2\n",
       " 4\n",
       " 6\n",
       " 8"
      ]
     },
     "execution_count": 2,
     "metadata": {},
     "output_type": "execute_result"
    }
   ],
   "source": [
    "# Python: double = lambda x: [i * 2 for i in x]\n",
    "double(x) = [i * 2 for i in x]\n",
    "double([1, 2, 3, 4])"
   ]
  },
  {
   "cell_type": "markdown",
   "id": "e7b7839c",
   "metadata": {},
   "source": [
    "# Metaprogramming"
   ]
  },
  {
   "cell_type": "code",
   "execution_count": 3,
   "id": "9abcaf27",
   "metadata": {},
   "outputs": [
    {
     "name": "stdout",
     "output_type": "stream",
     "text": [
      "Hi\n"
     ]
    }
   ],
   "source": [
    "using Base.Meta\n",
    "\n",
    "\n",
    "function greet()\n",
    "    return \"Hi\"\n",
    "end\n",
    "\n",
    "func_name = \"greet\"\n",
    "caller = \"$(func_name)()\"\n",
    "caller = Meta.parse(caller)\n",
    "call = eval(caller)\n",
    "println(call)"
   ]
  }
 ],
 "metadata": {
  "kernelspec": {
   "display_name": "Julia 1.6.3",
   "language": "julia",
   "name": "julia-1.6"
  },
  "language_info": {
   "file_extension": ".jl",
   "mimetype": "application/julia",
   "name": "julia",
   "version": "1.6.3"
  }
 },
 "nbformat": 4,
 "nbformat_minor": 5
}
