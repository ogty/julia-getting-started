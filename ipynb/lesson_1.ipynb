{
 "cells": [
  {
   "cell_type": "code",
   "execution_count": 1,
   "id": "fef443aa",
   "metadata": {},
   "outputs": [
    {
     "name": "stdout",
     "output_type": "stream",
     "text": [
      "true\n"
     ]
    }
   ],
   "source": [
    "check(data) = length(data) >= 5 || error(\"The number of data must be at least 5.\") \n",
    "# println(check([1, 2, 3]))       Error\n",
    "println(check([1, 2, 3, 4, 5])) # true"
   ]
  },
  {
   "cell_type": "code",
   "execution_count": 2,
   "id": "a32fa569",
   "metadata": {},
   "outputs": [
    {
     "name": "stdout",
     "output_type": "stream",
     "text": [
      "You can't drink alcohol.\n",
      "You can drink alcohol.\n"
     ]
    }
   ],
   "source": [
    "drink(age) = age >= 20 ? \"You can drink alcohol.\" : \"You can't drink alcohol.\"\n",
    "println(drink(19)) # You can't drink alcohol.\n",
    "println(drink(25)) # You can drink alcohol."
   ]
  },
  {
   "cell_type": "code",
   "execution_count": 3,
   "id": "80053453",
   "metadata": {},
   "outputs": [
    {
     "name": "stdout",
     "output_type": "stream",
     "text": [
      "(1, 2, 3)\n",
      "(1, 2, 4)\n",
      "(1, 3, 3)\n",
      "(1, 3, 4)\n",
      "(2, 2, 3)\n",
      "(2, 2, 4)\n",
      "(2, 3, 3)\n",
      "(2, 3, 4)\n"
     ]
    }
   ],
   "source": [
    "# =, in, and ∈ can be used in the same way\n",
    "for i = 1:2, j in 2:3, k ∈ 3:4\n",
    "    println((i, j, k))\n",
    "end"
   ]
  },
  {
   "cell_type": "code",
   "execution_count": 4,
   "id": "89d90470",
   "metadata": {},
   "outputs": [
    {
     "data": {
      "text/plain": [
       "12"
      ]
     },
     "execution_count": 4,
     "metadata": {},
     "output_type": "execute_result"
    }
   ],
   "source": [
    "# There are two main ways to write file operations\n",
    "open(\"../data/hello.txt\", \"w\") do io\n",
    "    write(io, \"Hello world!\\n\")\n",
    "end\n",
    "\n",
    "f = open(\"../data/hello.txt\", \"a\")\n",
    "try\n",
    "    write(f, \"Hello Julia!\")\n",
    "finally\n",
    "    close(f)\n",
    "end"
   ]
  },
  {
   "cell_type": "code",
   "execution_count": 5,
   "id": "c9af7ab4",
   "metadata": {},
   "outputs": [
    {
     "name": "stdout",
     "output_type": "stream",
     "text": [
      "30\n",
      "10\n",
      "Hello world\n",
      "24\n",
      "Error\n",
      "72\n",
      "Vector{String}\n",
      "Vector{Int64}\n"
     ]
    }
   ],
   "source": [
    "function multiplication1(x, y)\n",
    "    return x * y\n",
    "end\n",
    "multiplication2(x, y) = x * y\n",
    "multiplication3(x::Int64, y::Int64)::Int64 = x * y\n",
    "multiplication4 = (x, y) -> x * y;\n",
    "\n",
    "println(multiplication1(5, 6))               # 30\n",
    "println(multiplication2(2, 5))               # 10\n",
    "println(multiplication2(\"Hello\", \" world\"))  # Hello world\n",
    "println(multiplication3(3, 8))               # 24\n",
    "\n",
    "try\n",
    "    println(multiplication3(\"Hello\", \" world\"))\n",
    "catch\n",
    "    println(\"Error\")\n",
    "end\n",
    "\n",
    "println(multiplication4(8, 9)) # 72\n",
    "\n",
    "\n",
    "array = [\"1\", \"2\", \"3\", \"4\", \"5\"]\n",
    "convedarray = map(x -> parse(Int64, x), array)\n",
    "println(typeof(array))       # Vector{String}\n",
    "println(typeof(convedarray)) # Vector{Int64}"
   ]
  },
  {
   "cell_type": "code",
   "execution_count": 6,
   "id": "a5404539",
   "metadata": {},
   "outputs": [
    {
     "name": "stdout",
     "output_type": "stream",
     "text": [
      "NTuple{5, Int64}\n",
      "15\n"
     ]
    }
   ],
   "source": [
    "# Type annotation for variable number of arguments\n",
    "function sum(data::Int64...)\n",
    "    result = 0\n",
    "    for i in data\n",
    "        result += i\n",
    "    end\n",
    "    return typeof(data), result\n",
    "end\n",
    "\n",
    "datatype, result = sum(1, 2, 3, 4, 5)\n",
    "println(datatype) # NTuple{5, Int64}\n",
    "println(result)   # 15"
   ]
  }
 ],
 "metadata": {
  "kernelspec": {
   "display_name": "Julia 1.6.3",
   "language": "julia",
   "name": "julia-1.6"
  },
  "language_info": {
   "file_extension": ".jl",
   "mimetype": "application/julia",
   "name": "julia",
   "version": "1.6.3"
  }
 },
 "nbformat": 4,
 "nbformat_minor": 5
}
