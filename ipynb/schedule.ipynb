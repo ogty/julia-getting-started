{
 "cells": [
  {
   "cell_type": "code",
   "execution_count": 1,
   "id": "ccb7d140",
   "metadata": {},
   "outputs": [
    {
     "data": {
      "text/plain": [
       "\"09:02\""
      ]
     },
     "execution_count": 1,
     "metadata": {},
     "output_type": "execute_result"
    }
   ],
   "source": [
    "# example\n",
    "nine_two = \"09:02\""
   ]
  },
  {
   "cell_type": "code",
   "execution_count": 4,
   "id": "7021006c",
   "metadata": {},
   "outputs": [
    {
     "data": {
      "text/plain": [
       "2-element Vector{SubString{String}}:\n",
       " \"09\"\n",
       " \"02\""
      ]
     },
     "execution_count": 4,
     "metadata": {},
     "output_type": "execute_result"
    }
   ],
   "source": [
    "# split\n",
    "hour, minute = split(nine_two, \":\")"
   ]
  },
  {
   "cell_type": "code",
   "execution_count": 6,
   "id": "cd66daa1",
   "metadata": {},
   "outputs": [
    {
     "data": {
      "text/plain": [
       "9"
      ]
     },
     "execution_count": 6,
     "metadata": {},
     "output_type": "execute_result"
    }
   ],
   "source": [
    "# convert integer\n",
    "hour_int = parse(Int64, hour)"
   ]
  },
  {
   "cell_type": "code",
   "execution_count": 7,
   "id": "313cdadf",
   "metadata": {},
   "outputs": [
    {
     "data": {
      "text/plain": [
       "1"
      ]
     },
     "execution_count": 7,
     "metadata": {},
     "output_type": "execute_result"
    }
   ],
   "source": [
    "# length\n",
    "hour_length = length(string(hour_int))"
   ]
  },
  {
   "cell_type": "code",
   "execution_count": 16,
   "id": "e7ea5df0",
   "metadata": {
    "scrolled": true
   },
   "outputs": [
    {
     "name": "stdout",
     "output_type": "stream",
     "text": [
      "0\n",
      "10\n",
      "20\n",
      "30\n",
      "40\n",
      "50\n"
     ]
    }
   ],
   "source": [
    "# for\n",
    "for i in 0:10:59\n",
    "    println(i)\n",
    "end"
   ]
  },
  {
   "cell_type": "code",
   "execution_count": 34,
   "id": "0f4b62e7",
   "metadata": {},
   "outputs": [
    {
     "name": "stdout",
     "output_type": "stream",
     "text": [
      "Any[\"09:00\", \"09:05\", \"09:10\", \"09:15\", \"09:20\", \"09:25\", \"09:30\", \"09:35\", \"09:40\", \"09:45\", \"09:50\", \"09:55\", \"10:00\", \"10:05\", \"10:10\", \"10:15\", \"10:20\", \"10:25\", \"10:30\", \"10:35\", \"10:40\", \"10:45\", \"10:50\", \"10:55\", \"11:00\", \"11:05\", \"11:10\", \"11:15\", \"11:20\", \"11:25\", \"11:30\", \"11:35\", \"11:40\", \"11:45\", \"11:50\", \"11:55\", \"12:00\", \"12:05\", \"12:10\", \"12:15\", \"12:20\", \"12:25\", \"12:30\", \"12:35\", \"12:40\", \"12:45\", \"12:50\", \"12:55\", \"13:00\", \"13:05\", \"13:10\", \"13:15\", \"13:20\", \"13:25\", \"13:30\", \"13:35\", \"13:40\", \"13:45\", \"13:50\", \"13:55\", \"14:00\", \"14:05\", \"14:10\", \"14:15\", \"14:20\", \"14:25\", \"14:30\", \"14:35\", \"14:40\", \"14:45\", \"14:50\", \"14:55\", \"15:00\", \"15:05\", \"15:10\", \"15:15\", \"15:20\", \"15:25\", \"15:30\", \"15:35\", \"15:40\", \"15:45\", \"15:50\", \"15:55\"]\n"
     ]
    }
   ],
   "source": [
    "function schedule(first::Int64, last::Int64, step::Int64)\n",
    "    result = []\n",
    "    for hour in first:last\n",
    "        for minute in 0:step:59\n",
    "            tmp_hour = \"\"\n",
    "            tmp_minute = \"\"\n",
    "            if hour < 10\n",
    "                tmp_hour = \"0\" * string(hour)\n",
    "            else\n",
    "                tmp_hour = string(hour)\n",
    "            end\n",
    "            if minute < 10\n",
    "                tmp_minute = \"0\" * string(minute)\n",
    "            else\n",
    "                tmp_minute = string(minute)\n",
    "            end\n",
    "\n",
    "#             println(string(tmp_hour) * \":\" * string(tmp_minute))\n",
    "            push!(result, string(tmp_hour) * \":\" * string(tmp_minute))\n",
    "        end\n",
    "    end\n",
    "    return result\n",
    "end\n",
    "\n",
    "println(schedule(9, 15, 5))"
   ]
  },
  {
   "cell_type": "code",
   "execution_count": null,
   "id": "c8c9c806",
   "metadata": {},
   "outputs": [],
   "source": []
  }
 ],
 "metadata": {
  "kernelspec": {
   "display_name": "Julia 1.6.3",
   "language": "julia",
   "name": "julia-1.6"
  },
  "language_info": {
   "file_extension": ".jl",
   "mimetype": "application/julia",
   "name": "julia",
   "version": "1.6.3"
  }
 },
 "nbformat": 4,
 "nbformat_minor": 5
}
